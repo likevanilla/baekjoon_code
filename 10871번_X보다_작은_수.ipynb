{
  "nbformat": 4,
  "nbformat_minor": 0,
  "metadata": {
    "colab": {
      "provenance": [],
      "authorship_tag": "ABX9TyNz2TuNs7qGhBieoIyD8NV4",
      "include_colab_link": true
    },
    "kernelspec": {
      "name": "python3",
      "display_name": "Python 3"
    },
    "language_info": {
      "name": "python"
    }
  },
  "cells": [
    {
      "cell_type": "markdown",
      "metadata": {
        "id": "view-in-github",
        "colab_type": "text"
      },
      "source": [
        "<a href=\"https://colab.research.google.com/github/likevanilla/baekjoon_code/blob/main/10871%EB%B2%88_X%EB%B3%B4%EB%8B%A4_%EC%9E%91%EC%9D%80_%EC%88%98.ipynb\" target=\"_parent\"><img src=\"https://colab.research.google.com/assets/colab-badge.svg\" alt=\"Open In Colab\"/></a>"
      ]
    },
    {
      "cell_type": "markdown",
      "source": [
        "# X보다 작은 수\n",
        "\n",
        "정수 N개로 이루어진 수열 A와 정수 X가 주어진다. 이때, A에서 X보다 작은 수를 모두 출력하는 프로그램을 작성하시오."
      ],
      "metadata": {
        "id": "U4NGnnMB8SEi"
      }
    },
    {
      "cell_type": "code",
      "execution_count": 20,
      "metadata": {
        "colab": {
          "base_uri": "https://localhost:8080/"
        },
        "id": "G5NHjx3U8HTm",
        "outputId": "4ba300cb-b350-4a99-a304-3d99cac1a0d2"
      },
      "outputs": [
        {
          "output_type": "stream",
          "name": "stdout",
          "text": [
            "10 5\n",
            "1 10 4 9 2 3 8 5 7 6\n",
            "1 4 2 3\n"
          ]
        }
      ],
      "source": [
        "N, X = map(int, input().split())\n",
        "\n",
        "A = map(int, input().split())\n",
        "A = list(A)\n",
        "\n",
        "num = list()\n",
        "\n",
        "for i in range(0,N):\n",
        "  if X > A[i]:\n",
        "    num.append(A[i])\n",
        "\n",
        "print(*num)"
      ]
    }
  ]
}