{
  "nbformat": 4,
  "nbformat_minor": 0,
  "metadata": {
    "colab": {
      "provenance": [],
      "authorship_tag": "ABX9TyOh57iOneS/SrvoFbDH5B+U",
      "include_colab_link": true
    },
    "kernelspec": {
      "name": "python3",
      "display_name": "Python 3"
    },
    "language_info": {
      "name": "python"
    }
  },
  "cells": [
    {
      "cell_type": "markdown",
      "metadata": {
        "id": "view-in-github",
        "colab_type": "text"
      },
      "source": [
        "<a href=\"https://colab.research.google.com/github/likevanilla/baekjoon_code/blob/main/10699%EB%B2%88_%EC%98%A4%EB%8A%98_%EB%82%A0%EC%A7%9C.ipynb\" target=\"_parent\"><img src=\"https://colab.research.google.com/assets/colab-badge.svg\" alt=\"Open In Colab\"/></a>"
      ]
    },
    {
      "cell_type": "markdown",
      "source": [
        "# 오늘 날짜\n",
        "\n",
        "서울의 오늘 날짜를 출력하는 프로그램을 작성하시오."
      ],
      "metadata": {
        "id": "5NrhAUvC4gVN"
      }
    },
    {
      "cell_type": "code",
      "execution_count": null,
      "metadata": {
        "id": "wEve1mos0lje"
      },
      "outputs": [],
      "source": [
        "import datetime\n",
        "d = datetime.date.today()\n",
        "print(d.isoformat())"
      ]
    }
  ]
}