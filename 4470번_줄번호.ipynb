{
  "nbformat": 4,
  "nbformat_minor": 0,
  "metadata": {
    "colab": {
      "provenance": [],
      "authorship_tag": "ABX9TyPPuSBq0rmnymHKATss+GrB",
      "include_colab_link": true
    },
    "kernelspec": {
      "name": "python3",
      "display_name": "Python 3"
    },
    "language_info": {
      "name": "python"
    }
  },
  "cells": [
    {
      "cell_type": "markdown",
      "metadata": {
        "id": "view-in-github",
        "colab_type": "text"
      },
      "source": [
        "<a href=\"https://colab.research.google.com/github/likevanilla/baekjoon_code/blob/main/4470%EB%B2%88_%EC%A4%84%EB%B2%88%ED%98%B8.ipynb\" target=\"_parent\"><img src=\"https://colab.research.google.com/assets/colab-badge.svg\" alt=\"Open In Colab\"/></a>"
      ]
    },
    {
      "cell_type": "markdown",
      "source": [
        "# 줄번호\n",
        "\n",
        "텍스트에서 줄을 입력받은 뒤, 줄 번호를 출력하는 프로그램을 작성하시오."
      ],
      "metadata": {
        "id": "ub1A68ei6_7D"
      }
    },
    {
      "cell_type": "code",
      "execution_count": 6,
      "metadata": {
        "colab": {
          "base_uri": "https://localhost:8080/"
        },
        "id": "kuCMuTsk6qAt",
        "outputId": "b36c7aac-8731-448d-acee-2a791efcdcc1"
      },
      "outputs": [
        {
          "output_type": "stream",
          "name": "stdout",
          "text": [
            "5\n",
            "Lionel Cosgrove\n",
            "Alice\n",
            "Columbus and Tallahassee\n",
            "Shaun and Ed\n",
            "Fido\n",
            "1. Lionel Cosgrove\n",
            "2. Alice\n",
            "3. Columbus and Tallahassee\n",
            "4. Shaun and Ed\n",
            "5. Fido\n"
          ]
        }
      ],
      "source": [
        "N = int(input())\n",
        "sen = []\n",
        "\n",
        "for _ in range(N):\n",
        "  sen.append(str(input()))\n",
        "\n",
        "for i in range(N):\n",
        "  print(\"{0}. {1}\".format(i+1,sen[i]))"
      ]
    }
  ]
}