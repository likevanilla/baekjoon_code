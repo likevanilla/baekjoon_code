{
  "nbformat": 4,
  "nbformat_minor": 0,
  "metadata": {
    "colab": {
      "provenance": [],
      "authorship_tag": "ABX9TyPKj+jUv8YnV4QlRWrQuLke",
      "include_colab_link": true
    },
    "kernelspec": {
      "name": "python3",
      "display_name": "Python 3"
    },
    "language_info": {
      "name": "python"
    }
  },
  "cells": [
    {
      "cell_type": "markdown",
      "metadata": {
        "id": "view-in-github",
        "colab_type": "text"
      },
      "source": [
        "<a href=\"https://colab.research.google.com/github/likevanilla/baekjoon_code/blob/main/1942%EB%B2%88_2007%EB%85%84.ipynb\" target=\"_parent\"><img src=\"https://colab.research.google.com/assets/colab-badge.svg\" alt=\"Open In Colab\"/></a>"
      ]
    },
    {
      "cell_type": "markdown",
      "source": [
        "# 2007년\n",
        "\n",
        "오늘은 2007년 1월 1일 월요일이다. 그렇다면 2007년 x월 y일은 무슨 요일일까? 이를 알아내는 프로그램을 작성하시오."
      ],
      "metadata": {
        "id": "V9hmsQ363vDr"
      }
    },
    {
      "cell_type": "code",
      "execution_count": null,
      "metadata": {
        "id": "VQ7rm49900WB"
      },
      "outputs": [],
      "source": [
        "x, y = map(int, input().split())\n",
        "DAY = ['SUN', 'MON', 'TUE', 'WED', 'THU', 'FRI', 'SAT']\n",
        "month = [31, 28, 31, 30, 31, 30, 31, 31, 30, 31, 30, 31]\n",
        "a = 0\n",
        "\n",
        "for i in range(0, x-1):\n",
        "    a += month[i]\n",
        "\n",
        "a = (a + y) % 7\n",
        "\n",
        "print(DAY[a])"
      ]
    }
  ]
}