{
  "nbformat": 4,
  "nbformat_minor": 0,
  "metadata": {
    "colab": {
      "provenance": [],
      "authorship_tag": "ABX9TyOE7JFBGc4+DNIZCvqBv2ET",
      "include_colab_link": true
    },
    "kernelspec": {
      "name": "python3",
      "display_name": "Python 3"
    },
    "language_info": {
      "name": "python"
    }
  },
  "cells": [
    {
      "cell_type": "markdown",
      "metadata": {
        "id": "view-in-github",
        "colab_type": "text"
      },
      "source": [
        "<a href=\"https://colab.research.google.com/github/likevanilla/baekjoon_code/blob/main/1085.ipynb\" target=\"_parent\"><img src=\"https://colab.research.google.com/assets/colab-badge.svg\" alt=\"Open In Colab\"/></a>"
      ]
    },
    {
      "cell_type": "code",
      "execution_count": 1,
      "metadata": {
        "colab": {
          "base_uri": "https://localhost:8080/"
        },
        "id": "OYDGyX27b1Mm",
        "outputId": "3e8a2f8d-2db8-4d7d-ab7d-b88168a5141a"
      },
      "outputs": [
        {
          "output_type": "stream",
          "name": "stdout",
          "text": [
            "1 2 3 4\n",
            "1\n"
          ]
        }
      ],
      "source": [
        "x, y, w, h = map(int,input().split())\n",
        "least = []\n",
        "\n",
        "if x <= w - x:\n",
        "    least.append(x)\n",
        "else:\n",
        "    least.append(w - x)\n",
        "\n",
        "if y <= h - y:\n",
        "    least.append(y)\n",
        "else:\n",
        "    least.append(h - y)\n",
        "\n",
        "print(min(least))\n"
      ]
    }
  ]
}