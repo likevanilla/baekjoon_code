{
  "nbformat": 4,
  "nbformat_minor": 0,
  "metadata": {
    "colab": {
      "provenance": [],
      "authorship_tag": "ABX9TyMn/Ong9vV5IfI49EgvfQle",
      "include_colab_link": true
    },
    "kernelspec": {
      "name": "python3",
      "display_name": "Python 3"
    },
    "language_info": {
      "name": "python"
    }
  },
  "cells": [
    {
      "cell_type": "markdown",
      "metadata": {
        "id": "view-in-github",
        "colab_type": "text"
      },
      "source": [
        "<a href=\"https://colab.research.google.com/github/likevanilla/baekjoon_code/blob/main/10869%EB%B2%88_%EC%82%AC%EC%B9%99%EC%97%B0%EC%82%B0.ipynb\" target=\"_parent\"><img src=\"https://colab.research.google.com/assets/colab-badge.svg\" alt=\"Open In Colab\"/></a>"
      ]
    },
    {
      "cell_type": "markdown",
      "source": [
        "# 사칙연산\n",
        "\n",
        "두 자연수 A와 B가 주어진다. 이때, A+B, A-B, A*B, A/B(몫), A%B(나머지)를 출력하는 프로그램을 작성하시오."
      ],
      "metadata": {
        "id": "awIOYK6zAQlE"
      }
    },
    {
      "cell_type": "code",
      "execution_count": null,
      "metadata": {
        "id": "AHKXDCedAP0h"
      },
      "outputs": [],
      "source": [
        "A, B = map(int, input().split())\n",
        "print(A+B)\n",
        "print(A-B)\n",
        "print(A*B)\n",
        "print(A//B)\n",
        "print(A%B)"
      ]
    }
  ]
}