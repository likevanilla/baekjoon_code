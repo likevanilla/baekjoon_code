{
  "nbformat": 4,
  "nbformat_minor": 0,
  "metadata": {
    "colab": {
      "provenance": [],
      "authorship_tag": "ABX9TyM3i/P8UaZJ+Wfww3N/V/GI",
      "include_colab_link": true
    },
    "kernelspec": {
      "name": "python3",
      "display_name": "Python 3"
    },
    "language_info": {
      "name": "python"
    }
  },
  "cells": [
    {
      "cell_type": "markdown",
      "metadata": {
        "id": "view-in-github",
        "colab_type": "text"
      },
      "source": [
        "<a href=\"https://colab.research.google.com/github/likevanilla/baekjoon_code/blob/main/27866%EB%B2%88_%EB%AC%B8%EC%9E%90%EC%99%80_%EB%AC%B8%EC%9E%90%EC%97%B4.ipynb\" target=\"_parent\"><img src=\"https://colab.research.google.com/assets/colab-badge.svg\" alt=\"Open In Colab\"/></a>"
      ]
    },
    {
      "cell_type": "markdown",
      "source": [
        "# 문자와 문자열\n",
        "\n",
        "단어 S와 정수i가 주어졌을 때,S의 i번째 글자를 출력하는 프로그램을 작성하시오."
      ],
      "metadata": {
        "id": "sFYrYRWaGg26"
      }
    },
    {
      "cell_type": "code",
      "execution_count": null,
      "metadata": {
        "id": "0bEwFJEYGf_g"
      },
      "outputs": [],
      "source": [
        "S = list(input())\n",
        "i = int(input())\n",
        "print(S[i-1])"
      ]
    }
  ]
}