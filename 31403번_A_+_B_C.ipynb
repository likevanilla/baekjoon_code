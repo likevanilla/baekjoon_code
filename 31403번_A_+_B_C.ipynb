{
  "nbformat": 4,
  "nbformat_minor": 0,
  "metadata": {
    "colab": {
      "provenance": [],
      "authorship_tag": "ABX9TyM1GhEvCwba/2uhare8JPqj",
      "include_colab_link": true
    },
    "kernelspec": {
      "name": "python3",
      "display_name": "Python 3"
    },
    "language_info": {
      "name": "python"
    }
  },
  "cells": [
    {
      "cell_type": "markdown",
      "metadata": {
        "id": "view-in-github",
        "colab_type": "text"
      },
      "source": [
        "<a href=\"https://colab.research.google.com/github/likevanilla/baekjoon_code/blob/main/31403%EB%B2%88_A_%2B_B_C.ipynb\" target=\"_parent\"><img src=\"https://colab.research.google.com/assets/colab-badge.svg\" alt=\"Open In Colab\"/></a>"
      ]
    },
    {
      "cell_type": "markdown",
      "source": [
        "# A + B - C\n",
        "\n",
        "JavaScript에서\n",
        "$+, -$은 수에 대해서는 일반적인 의미의 덧셈 뺄셈의 의미를 가지고 있습니다. 하지만 문자열에 대해서\n",
        "$+$는 두 문자열을 이어붙이라는 의미이고,\n",
        "$-$는 양쪽 문자열을 수로 해석한 이후에 빼라는 의미입니다.\n",
        "\n",
        "\n",
        "$A, B, C$를 각각 수와 문자열로 생각했을 때\n",
        "$A+B-C$를 출력하세요."
      ],
      "metadata": {
        "id": "sLP7QIy3WUDu"
      }
    },
    {
      "cell_type": "code",
      "execution_count": 6,
      "metadata": {
        "colab": {
          "base_uri": "https://localhost:8080/"
        },
        "id": "_Ag98utPWLej",
        "outputId": "40c5bd4e-f0d5-47dc-c30d-71dc6cf95c65"
      },
      "outputs": [
        {
          "output_type": "stream",
          "name": "stdout",
          "text": [
            "3\n",
            "4\n",
            "5\n",
            "2\n",
            "29\n"
          ]
        }
      ],
      "source": [
        "A = input()\n",
        "B = input()\n",
        "C = input()\n",
        "\n",
        "print(int(A)+int(B)-int(C))\n",
        "\n",
        "A = str(A)\n",
        "B = str(B)\n",
        "C = int(C)\n",
        "\n",
        "print(int(A+B)-C)"
      ]
    }
  ]
}