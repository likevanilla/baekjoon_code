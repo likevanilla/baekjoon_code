{
  "nbformat": 4,
  "nbformat_minor": 0,
  "metadata": {
    "colab": {
      "provenance": [],
      "authorship_tag": "ABX9TyPcHnMS+LrLD3LJxidpLU94",
      "include_colab_link": true
    },
    "kernelspec": {
      "name": "python3",
      "display_name": "Python 3"
    },
    "language_info": {
      "name": "python"
    }
  },
  "cells": [
    {
      "cell_type": "markdown",
      "metadata": {
        "id": "view-in-github",
        "colab_type": "text"
      },
      "source": [
        "<a href=\"https://colab.research.google.com/github/likevanilla/baekjoon_code/blob/main/11718%EB%B2%88_%EA%B7%B8%EB%8C%80%EB%A1%9C_%EC%B6%9C%EB%A0%A5%ED%95%98%EA%B8%B0.ipynb\" target=\"_parent\"><img src=\"https://colab.research.google.com/assets/colab-badge.svg\" alt=\"Open In Colab\"/></a>"
      ]
    },
    {
      "cell_type": "markdown",
      "source": [
        "# 그대로 출력하기\n",
        "\n",
        "입력 받은 대로 출력하는 프로그램을 작성하시오."
      ],
      "metadata": {
        "id": "uswH6STOe_5e"
      }
    },
    {
      "cell_type": "code",
      "execution_count": 1,
      "metadata": {
        "colab": {
          "base_uri": "https://localhost:8080/"
        },
        "id": "bx0lIMPwecMa",
        "outputId": "ae89576e-32f0-4173-b87a-5857b8e9acac"
      },
      "outputs": [
        {
          "name": "stdout",
          "output_type": "stream",
          "text": [
            "hello\n",
            "hello\n",
            "hi\n",
            "hi\n",
            "\n"
          ]
        }
      ],
      "source": [
        "while True:\n",
        "  try:\n",
        "    a = input()\n",
        "    if len(a) == 0:\n",
        "      break\n",
        "    print(a)\n",
        "  except:\n",
        "      break"
      ]
    }
  ]
}