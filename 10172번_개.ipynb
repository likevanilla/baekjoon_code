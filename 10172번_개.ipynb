{
  "nbformat": 4,
  "nbformat_minor": 0,
  "metadata": {
    "colab": {
      "provenance": [],
      "authorship_tag": "ABX9TyMw3r5Lgabv/8A2JguNXGM0",
      "include_colab_link": true
    },
    "kernelspec": {
      "name": "python3",
      "display_name": "Python 3"
    },
    "language_info": {
      "name": "python"
    }
  },
  "cells": [
    {
      "cell_type": "markdown",
      "metadata": {
        "id": "view-in-github",
        "colab_type": "text"
      },
      "source": [
        "<a href=\"https://colab.research.google.com/github/likevanilla/baekjoon_code/blob/main/10172%EB%B2%88_%EA%B0%9C.ipynb\" target=\"_parent\"><img src=\"https://colab.research.google.com/assets/colab-badge.svg\" alt=\"Open In Colab\"/></a>"
      ]
    },
    {
      "cell_type": "markdown",
      "source": [
        "# 개\n",
        "\n",
        "개를 출력하시오"
      ],
      "metadata": {
        "id": "KIrnpghkQ0tx"
      }
    },
    {
      "cell_type": "code",
      "execution_count": 1,
      "metadata": {
        "colab": {
          "base_uri": "https://localhost:8080/"
        },
        "id": "gi05nWD7Qg48",
        "outputId": "85210b1c-fd9b-4d2e-c538-756e2246214d"
      },
      "outputs": [
        {
          "output_type": "stream",
          "name": "stdout",
          "text": [
            "|\\_/|\n",
            "|q p|   /}\n",
            "( 0 )\"\"\"\\\n",
            "|\"^\"`    |\n",
            "||_/=\\\\__|\n"
          ]
        }
      ],
      "source": [
        "print(\"|\\\\_/|\")\n",
        "print(\"|q p|   /}\")\n",
        "print(\"( 0 )\\\"\\\"\\\"\\\\\")\n",
        "print(\"|\\\"^\\\"`    |\")\n",
        "print(\"||_/=\\\\\\\\__|\")"
      ]
    }
  ]
}