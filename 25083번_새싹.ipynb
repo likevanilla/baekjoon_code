{
  "nbformat": 4,
  "nbformat_minor": 0,
  "metadata": {
    "colab": {
      "provenance": [],
      "authorship_tag": "ABX9TyMu9WNm3A1hcuX/TY+fvv+4",
      "include_colab_link": true
    },
    "kernelspec": {
      "name": "python3",
      "display_name": "Python 3"
    },
    "language_info": {
      "name": "python"
    }
  },
  "cells": [
    {
      "cell_type": "markdown",
      "metadata": {
        "id": "view-in-github",
        "colab_type": "text"
      },
      "source": [
        "<a href=\"https://colab.research.google.com/github/likevanilla/baekjoon_code/blob/main/25083%EB%B2%88_%EC%83%88%EC%8B%B9.ipynb\" target=\"_parent\"><img src=\"https://colab.research.google.com/assets/colab-badge.svg\" alt=\"Open In Colab\"/></a>"
      ]
    },
    {
      "cell_type": "markdown",
      "source": [
        "# 새싹\n",
        "\n",
        "새싹을 출력하시오."
      ],
      "metadata": {
        "id": "VkJncLOdPw9q"
      }
    },
    {
      "cell_type": "code",
      "execution_count": 2,
      "metadata": {
        "colab": {
          "base_uri": "https://localhost:8080/"
        },
        "id": "1EPME-XAPIAq",
        "outputId": "69137edf-2579-4b13-8497-609c72a1b563"
      },
      "outputs": [
        {
          "output_type": "stream",
          "name": "stdout",
          "text": [
            "         ,r'\"7\n",
            "r`-_   ,'  ,/\n",
            " \\. \". L_r'\n",
            "   `~\\/\n",
            "      |\n",
            "      |\n"
          ]
        }
      ],
      "source": [
        "print(\"         ,r\\'\\\"7\")\n",
        "print(\"r`-_   ,\\'  ,/\")\n",
        "print(\" \\\\. \\\". L_r\\'\")\n",
        "print(\"   `~\\\\/\")\n",
        "print(\"      |\")\n",
        "print(\"      |\")"
      ]
    }
  ]
}