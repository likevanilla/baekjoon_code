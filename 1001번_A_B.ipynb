{
  "nbformat": 4,
  "nbformat_minor": 0,
  "metadata": {
    "colab": {
      "provenance": [],
      "authorship_tag": "ABX9TyP5psNwJnAyNqMknTjdsUv1",
      "include_colab_link": true
    },
    "kernelspec": {
      "name": "python3",
      "display_name": "Python 3"
    },
    "language_info": {
      "name": "python"
    }
  },
  "cells": [
    {
      "cell_type": "markdown",
      "metadata": {
        "id": "view-in-github",
        "colab_type": "text"
      },
      "source": [
        "<a href=\"https://colab.research.google.com/github/likevanilla/baekjoon_code/blob/main/1001%EB%B2%88_A_B.ipynb\" target=\"_parent\"><img src=\"https://colab.research.google.com/assets/colab-badge.svg\" alt=\"Open In Colab\"/></a>"
      ]
    },
    {
      "cell_type": "markdown",
      "source": [
        "# A-B\n",
        "\n",
        "두 정수 A와 B를 입력받은 다음, A-B를 출력하는 프로그램을 작성하시오."
      ],
      "metadata": {
        "id": "e7G1k6GawPtm"
      }
    },
    {
      "cell_type": "code",
      "execution_count": null,
      "metadata": {
        "id": "R3tuvJImwJyB"
      },
      "outputs": [],
      "source": [
        "A, B = map(int, input().split())\n",
        "print(A-B)"
      ]
    }
  ]
}