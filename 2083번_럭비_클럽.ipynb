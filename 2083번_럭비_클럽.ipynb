{
  "nbformat": 4,
  "nbformat_minor": 0,
  "metadata": {
    "colab": {
      "provenance": [],
      "authorship_tag": "ABX9TyMw5xEQ7bkE2/qJ7Ij1p+km",
      "include_colab_link": true
    },
    "kernelspec": {
      "name": "python3",
      "display_name": "Python 3"
    },
    "language_info": {
      "name": "python"
    }
  },
  "cells": [
    {
      "cell_type": "markdown",
      "metadata": {
        "id": "view-in-github",
        "colab_type": "text"
      },
      "source": [
        "<a href=\"https://colab.research.google.com/github/likevanilla/baekjoon_code/blob/main/2083%EB%B2%88_%EB%9F%AD%EB%B9%84_%ED%81%B4%EB%9F%BD.ipynb\" target=\"_parent\"><img src=\"https://colab.research.google.com/assets/colab-badge.svg\" alt=\"Open In Colab\"/></a>"
      ]
    },
    {
      "cell_type": "markdown",
      "source": [
        "# 럭비 클럽\n",
        "\n",
        "올 골드 럭비 클럽의 회원들은 성인부 또는 청소년부로 분류된다.\n",
        "\n",
        "나이가 17세보다 많거나, 몸무게가 80kg 이상이면 성인부이다. 그 밖에는 모두 청소년부이다. 클럽 회원들을 올바르게 분류하라."
      ],
      "metadata": {
        "id": "8E7YLWMK14rM"
      }
    },
    {
      "cell_type": "code",
      "execution_count": 21,
      "metadata": {
        "colab": {
          "base_uri": "https://localhost:8080/"
        },
        "id": "_Dq2331S1v5-",
        "outputId": "b9e5ea3e-c830-45ec-f738-7b4e114f128a"
      },
      "outputs": [
        {
          "name": "stdout",
          "output_type": "stream",
          "text": [
            "Joe 16 34\n",
            "Joe Junior\n",
            "Bill 18 65\n",
            "Bill Senior\n",
            "Billy 17 65\n",
            "Billy Junior\n",
            "Sam 17 85\n",
            "Sam Senior\n",
            "# 0 0\n"
          ]
        }
      ],
      "source": [
        "T = 0\n",
        "\n",
        "while T != 1:\n",
        "  name, age, w = input().split()\n",
        "\n",
        "  age = int(age)\n",
        "  w = int(w)\n",
        "\n",
        "  if age > 17 or w >= 80:\n",
        "    print(name,\"Senior\")\n",
        "  elif name == '#' and age == 0 and w == 0:\n",
        "    T += 1\n",
        "  else:\n",
        "    print(name,\"Junior\")"
      ]
    }
  ]
}