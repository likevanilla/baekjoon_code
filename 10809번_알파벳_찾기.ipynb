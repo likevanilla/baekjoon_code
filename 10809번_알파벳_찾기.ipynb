{
  "nbformat": 4,
  "nbformat_minor": 0,
  "metadata": {
    "colab": {
      "provenance": [],
      "authorship_tag": "ABX9TyMmBytP5JbuEl5++TtWKRNH",
      "include_colab_link": true
    },
    "kernelspec": {
      "name": "python3",
      "display_name": "Python 3"
    },
    "language_info": {
      "name": "python"
    }
  },
  "cells": [
    {
      "cell_type": "markdown",
      "metadata": {
        "id": "view-in-github",
        "colab_type": "text"
      },
      "source": [
        "<a href=\"https://colab.research.google.com/github/likevanilla/baekjoon_code/blob/main/10809%EB%B2%88_%EC%95%8C%ED%8C%8C%EB%B2%B3_%EC%B0%BE%EA%B8%B0.ipynb\" target=\"_parent\"><img src=\"https://colab.research.google.com/assets/colab-badge.svg\" alt=\"Open In Colab\"/></a>"
      ]
    },
    {
      "cell_type": "markdown",
      "source": [
        "# 알파벳 찾기\n",
        "\n",
        "알파벳 소문자로만 이루어진 단어 S가 주어진다. 각각의 알파벳에 대해서, 단어에 포함되어 있는 경우에는 처음 등장하는 위치를, 포함되어 있지 않은 경우에는 -1을 출력하는 프로그램을 작성하시오."
      ],
      "metadata": {
        "id": "muwf9JrI_eLf"
      }
    },
    {
      "cell_type": "code",
      "execution_count": null,
      "metadata": {
        "id": "EUiwnV9e_cxF"
      },
      "outputs": [],
      "source": [
        "import string\n",
        "\n",
        "S = list(input())\n",
        "Alphabet = list(string.ascii_lowercase)\n",
        "ans = []\n",
        "\n",
        "for i in range(0,len(Alphabet)):\n",
        "    if Alphabet[i] in S:\n",
        "        for j in range(0,len(S)):\n",
        "            if Alphabet[i] == S[j]:\n",
        "                ans.append(j)\n",
        "                break\n",
        "    else:\n",
        "        ans.append(-1)\n",
        "    print(ans[i], end = ' ')"
      ]
    }
  ]
}