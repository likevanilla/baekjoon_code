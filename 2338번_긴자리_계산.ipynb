{
  "nbformat": 4,
  "nbformat_minor": 0,
  "metadata": {
    "colab": {
      "provenance": [],
      "authorship_tag": "ABX9TyP9y45GVOhAd9iC4Imcsze3",
      "include_colab_link": true
    },
    "kernelspec": {
      "name": "python3",
      "display_name": "Python 3"
    },
    "language_info": {
      "name": "python"
    }
  },
  "cells": [
    {
      "cell_type": "markdown",
      "metadata": {
        "id": "view-in-github",
        "colab_type": "text"
      },
      "source": [
        "<a href=\"https://colab.research.google.com/github/likevanilla/baekjoon_code/blob/main/2338%EB%B2%88_%EA%B8%B4%EC%9E%90%EB%A6%AC_%EA%B3%84%EC%82%B0.ipynb\" target=\"_parent\"><img src=\"https://colab.research.google.com/assets/colab-badge.svg\" alt=\"Open In Colab\"/></a>"
      ]
    },
    {
      "cell_type": "markdown",
      "source": [
        "# 긴자리 계산\n",
        "\n",
        "두 수 A, B를 입력받아, A+B, A-B, A×B를 구하는 프로그램을 작성하시오."
      ],
      "metadata": {
        "id": "8_nooUluy36F"
      }
    },
    {
      "cell_type": "code",
      "execution_count": 19,
      "metadata": {
        "colab": {
          "base_uri": "https://localhost:8080/"
        },
        "id": "tYNaE77Oy20H",
        "outputId": "3275e3e2-b43a-466e-c85d-55b80166eb44"
      },
      "outputs": [
        {
          "output_type": "stream",
          "name": "stdout",
          "text": [
            "1\n",
            "-1\n",
            "0\n",
            "2\n",
            "-1\n"
          ]
        }
      ],
      "source": [
        "A = int(input())\n",
        "B = int(input())\n",
        "\n",
        "print(A+B)\n",
        "print(A-B)\n",
        "print(A*B)"
      ]
    }
  ]
}