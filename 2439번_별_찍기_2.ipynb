{
  "nbformat": 4,
  "nbformat_minor": 0,
  "metadata": {
    "colab": {
      "provenance": [],
      "authorship_tag": "ABX9TyNraLce71y5nbhd3WmyBdxq",
      "include_colab_link": true
    },
    "kernelspec": {
      "name": "python3",
      "display_name": "Python 3"
    },
    "language_info": {
      "name": "python"
    }
  },
  "cells": [
    {
      "cell_type": "markdown",
      "metadata": {
        "id": "view-in-github",
        "colab_type": "text"
      },
      "source": [
        "<a href=\"https://colab.research.google.com/github/likevanilla/baekjoon_code/blob/main/2439%EB%B2%88_%EB%B3%84_%EC%B0%8D%EA%B8%B0_2.ipynb\" target=\"_parent\"><img src=\"https://colab.research.google.com/assets/colab-badge.svg\" alt=\"Open In Colab\"/></a>"
      ]
    },
    {
      "cell_type": "markdown",
      "source": [
        "# 별 찍기 - 2\n",
        "\n",
        "첫째 줄에는 별 1개, 둘째 줄에는 별 2개, N번째 줄에는 별 N개를 찍는 문제\n",
        "\n",
        "하지만, 오른쪽을 기준으로 정렬한 별(예제 참고)을 출력하시오."
      ],
      "metadata": {
        "id": "cdR64bz740ZC"
      }
    },
    {
      "cell_type": "code",
      "execution_count": null,
      "metadata": {
        "id": "mmLsfGjx4wAW"
      },
      "outputs": [],
      "source": [
        "a = int(input())\n",
        "\n",
        "for i in range(1,a+1):\n",
        "    print(' '*(a-i) + '*'*i)"
      ]
    }
  ]
}