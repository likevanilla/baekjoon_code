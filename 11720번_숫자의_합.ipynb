{
  "nbformat": 4,
  "nbformat_minor": 0,
  "metadata": {
    "colab": {
      "provenance": [],
      "authorship_tag": "ABX9TyMPMcYLvcdiMFxP+ye2W4Ww",
      "include_colab_link": true
    },
    "kernelspec": {
      "name": "python3",
      "display_name": "Python 3"
    },
    "language_info": {
      "name": "python"
    }
  },
  "cells": [
    {
      "cell_type": "markdown",
      "metadata": {
        "id": "view-in-github",
        "colab_type": "text"
      },
      "source": [
        "<a href=\"https://colab.research.google.com/github/likevanilla/baekjoon_code/blob/main/11720%EB%B2%88_%EC%88%AB%EC%9E%90%EC%9D%98_%ED%95%A9.ipynb\" target=\"_parent\"><img src=\"https://colab.research.google.com/assets/colab-badge.svg\" alt=\"Open In Colab\"/></a>"
      ]
    },
    {
      "cell_type": "markdown",
      "source": [
        "# 숫자의 합\n",
        "\n",
        "N개의 숫자가 공백 없이 쓰여있다. 이 숫자를 모두 합해서 출력하는 프로그램을 작성하시오."
      ],
      "metadata": {
        "id": "mdduiibBuVSa"
      }
    },
    {
      "cell_type": "code",
      "execution_count": 25,
      "metadata": {
        "colab": {
          "base_uri": "https://localhost:8080/"
        },
        "id": "L40BsixXuP1c",
        "outputId": "1034b00c-1079-4e45-fe05-5a79bbe16975"
      },
      "outputs": [
        {
          "output_type": "stream",
          "name": "stdout",
          "text": [
            "11\n",
            "10987654321\n",
            "46\n"
          ]
        }
      ],
      "source": [
        "N = int(input())\n",
        "num = input()\n",
        "sum = 0\n",
        "lst = []\n",
        "\n",
        "for i in range(N):\n",
        "  lst.append(int(num[i]))\n",
        "  sum += lst[i]\n",
        "\n",
        "print(sum)"
      ]
    }
  ]
}