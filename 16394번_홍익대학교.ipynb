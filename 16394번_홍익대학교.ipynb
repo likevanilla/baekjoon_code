{
  "nbformat": 4,
  "nbformat_minor": 0,
  "metadata": {
    "colab": {
      "provenance": [],
      "authorship_tag": "ABX9TyNLovHbVV9kMNHGmyG9hMim",
      "include_colab_link": true
    },
    "kernelspec": {
      "name": "python3",
      "display_name": "Python 3"
    },
    "language_info": {
      "name": "python"
    }
  },
  "cells": [
    {
      "cell_type": "markdown",
      "metadata": {
        "id": "view-in-github",
        "colab_type": "text"
      },
      "source": [
        "<a href=\"https://colab.research.google.com/github/likevanilla/baekjoon_code/blob/main/16394%EB%B2%88_%ED%99%8D%EC%9D%B5%EB%8C%80%ED%95%99%EA%B5%90.ipynb\" target=\"_parent\"><img src=\"https://colab.research.google.com/assets/colab-badge.svg\" alt=\"Open In Colab\"/></a>"
      ]
    },
    {
      "cell_type": "markdown",
      "source": [
        "# 홍익대학교\n",
        "\n",
        "홍익대학교는 1946년에 개교하였다.\n",
        "\n",
        "특정 년도가 주어졌을 때, 그 해가 개교 몇 주년인지 출력하라.\n",
        "\n",
        "단, 홍익대학교는 없어지지 않는다고 가정한다.\n",
        "\n",
        "문제는 C, C++, JAVA 또는 Python3을 이용하여 해결한다.\n",
        "\n",
        "C\n",
        "입력\n",
        "scanf 사용\n",
        "정수 %d, 실수 %f, 문자열 %s 사용\n",
        "scanf(\"%d\", &var);\n",
        "출력\n",
        "정수 %d, 실수 %f, 문자열 %s 사용\n",
        "예) printf(\"%d\", var);\n",
        "필수 라이브러리 stdio.h\n",
        "\n",
        "C++\n",
        "입력\n",
        "cin 사용\n",
        "예) cin >> var;\n",
        "출력\n",
        "cout 사용\n",
        "예) cout << var;\n",
        "필수 라이브러리 iostream\n",
        "권장사항\n",
        "using namespace std;\n",
        "ios::sync_with_stdio(false);\n",
        "cin.tie(NULL);\n",
        "\n",
        "Java\n",
        "입력\n",
        "Scanner 사용\n",
        "Scanner sc = new Scanner(System.in); 정수: sc.nextInt(); 실수: sc.nextDouble(); 문자열: sc.nextLine(); 또는 sc.next();\n",
        "출력\n",
        "System.out.println(var);\n",
        "필수 라이브러리 java.util.Scanner"
      ],
      "metadata": {
        "id": "p6I2X_NeLteC"
      }
    },
    {
      "cell_type": "code",
      "execution_count": 1,
      "metadata": {
        "colab": {
          "base_uri": "https://localhost:8080/"
        },
        "id": "mqsZ0sfmKwjM",
        "outputId": "0e2e4d3a-dbc5-4f1f-a2cb-788383339174"
      },
      "outputs": [
        {
          "output_type": "stream",
          "name": "stdout",
          "text": [
            "2018\n",
            "72\n"
          ]
        }
      ],
      "source": [
        "year = int(input())\n",
        "today = 1946 - year\n",
        "print(abs(today))"
      ]
    }
  ]
}