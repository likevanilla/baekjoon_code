{
  "nbformat": 4,
  "nbformat_minor": 0,
  "metadata": {
    "colab": {
      "provenance": [],
      "authorship_tag": "ABX9TyNtsHKdUH2KRd+sggrGPi3H",
      "include_colab_link": true
    },
    "kernelspec": {
      "name": "python3",
      "display_name": "Python 3"
    },
    "language_info": {
      "name": "python"
    }
  },
  "cells": [
    {
      "cell_type": "markdown",
      "metadata": {
        "id": "view-in-github",
        "colab_type": "text"
      },
      "source": [
        "<a href=\"https://colab.research.google.com/github/likevanilla/baekjoon_code/blob/main/17530%EB%B2%88_2%EB%A3%A8%EC%88%98_%EC%9D%B4%EB%A6%84%EC%9D%B4_%EB%AD%90%EC%95%BC.ipynb\" target=\"_parent\"><img src=\"https://colab.research.google.com/assets/colab-badge.svg\" alt=\"Open In Colab\"/></a>"
      ]
    },
    {
      "cell_type": "markdown",
      "source": [
        "# 2루수 이름이 뭐야\n",
        "\n",
        "1루수가 누구인지 밝혀내는 과정에서, 2루수가 거짓말을 하고 있다는 사실이 드러났다!\n",
        "\n",
        "이에 극대노한 선수들은 2루수를 찾아내어 혼내주려고 한다. 그런데 이번에는 2루수의 이름을 모른다! 하지만 감독님은 무엇인가 알고 계신 듯하다.\n",
        "\n",
        "\"1루수가 누구야 2루수 이름이 뭐야 3루수는 몰라\"\n",
        "\n",
        "야구팀의 선수 리스트를 보고, 뭐가 있는지 찾아보자.\n",
        "\n",
        "2루수 이름이 뭐야"
      ],
      "metadata": {
        "id": "FogyBEVq_h2F"
      }
    },
    {
      "cell_type": "code",
      "execution_count": 2,
      "metadata": {
        "colab": {
          "base_uri": "https://localhost:8080/"
        },
        "id": "llxsb8sY_STm",
        "outputId": "c31ee0a6-6f39-4030-d5e3-9ef33bc91941"
      },
      "outputs": [
        {
          "output_type": "stream",
          "name": "stdout",
          "text": [
            "4\n",
            "aptl\n",
            "molamolamolamola\n",
            "ddlqmfkglahqlcl\n",
            "QWERTOP\n",
            "뭐야?\n"
          ]
        }
      ],
      "source": [
        "players = []\n",
        "T = int(input())\n",
        "\n",
        "for _ in range(T):\n",
        "  players.append(input())\n",
        "\n",
        "if 'anj' in players:\n",
        "  print('뭐야;')\n",
        "else:\n",
        "  print('뭐야?')"
      ]
    }
  ]
}