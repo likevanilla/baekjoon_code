{
  "nbformat": 4,
  "nbformat_minor": 0,
  "metadata": {
    "colab": {
      "provenance": [],
      "authorship_tag": "ABX9TyMoQGndWgyteu/mRBYtrB5M",
      "include_colab_link": true
    },
    "kernelspec": {
      "name": "python3",
      "display_name": "Python 3"
    },
    "language_info": {
      "name": "python"
    }
  },
  "cells": [
    {
      "cell_type": "markdown",
      "metadata": {
        "id": "view-in-github",
        "colab_type": "text"
      },
      "source": [
        "<a href=\"https://colab.research.google.com/github/likevanilla/baekjoon_code/blob/main/1157%EB%B2%88_%EB%8B%A8%EC%96%B4_%EA%B3%B5%EB%B6%80.ipynb\" target=\"_parent\"><img src=\"https://colab.research.google.com/assets/colab-badge.svg\" alt=\"Open In Colab\"/></a>"
      ]
    },
    {
      "cell_type": "markdown",
      "source": [
        "# 단어 공부\n",
        "\n",
        "알파벳 대소문자로 된 단어가 주어지면, 이 단어에서 가장 많이 사용된 알파벳이 무엇인지 알아내는 프로그램을 작성하시오. 단, 대문자와 소문자를 구분하지 않는다."
      ],
      "metadata": {
        "id": "ZrKt1nTrz0wh"
      }
    },
    {
      "cell_type": "code",
      "execution_count": null,
      "metadata": {
        "id": "oPl1OmeYzwK9"
      },
      "outputs": [],
      "source": [
        "alp = list(input())\n",
        "alp_upper = []\n",
        "\n",
        "for i in alp:\n",
        "    alp_upper.append(i.upper())\n",
        "\n",
        "uni_alp_upper = list(set(alp_upper))\n",
        "count = []\n",
        "\n",
        "for j in uni_alp_upper:\n",
        "    cnt = alp_upper.count(j)\n",
        "    count.append(cnt)\n",
        "\n",
        "if count.count(max(count)) >= 2:\n",
        "    print('?')\n",
        "else:\n",
        "    max_index = count.index(max(count))\n",
        "    print(uni_alp_upper[max_index])\n"
      ]
    }
  ]
}