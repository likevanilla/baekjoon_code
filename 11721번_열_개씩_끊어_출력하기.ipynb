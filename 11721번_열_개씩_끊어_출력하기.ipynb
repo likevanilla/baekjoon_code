{
  "nbformat": 4,
  "nbformat_minor": 0,
  "metadata": {
    "colab": {
      "provenance": [],
      "authorship_tag": "ABX9TyNNUsTG75idJXamVWZ22l2Q",
      "include_colab_link": true
    },
    "kernelspec": {
      "name": "python3",
      "display_name": "Python 3"
    },
    "language_info": {
      "name": "python"
    }
  },
  "cells": [
    {
      "cell_type": "markdown",
      "metadata": {
        "id": "view-in-github",
        "colab_type": "text"
      },
      "source": [
        "<a href=\"https://colab.research.google.com/github/likevanilla/baekjoon_code/blob/main/11721%EB%B2%88_%EC%97%B4_%EA%B0%9C%EC%94%A9_%EB%81%8A%EC%96%B4_%EC%B6%9C%EB%A0%A5%ED%95%98%EA%B8%B0.ipynb\" target=\"_parent\"><img src=\"https://colab.research.google.com/assets/colab-badge.svg\" alt=\"Open In Colab\"/></a>"
      ]
    },
    {
      "cell_type": "markdown",
      "source": [
        "# 열 개씩 끊어 출력하기\n",
        "\n",
        "알파벳 소문자와 대문자로만 이루어진 길이가 N인 단어가 주어진다.\n",
        "\n",
        "한 줄에 10글자씩 끊어서 출력하는 프로그램을 작성하시오."
      ],
      "metadata": {
        "id": "ppeHU12wDBbv"
      }
    },
    {
      "cell_type": "code",
      "execution_count": null,
      "metadata": {
        "id": "J_TE25spDA8R"
      },
      "outputs": [],
      "source": [
        "a = input()\n",
        "for i in range(0,len(a),10):\n",
        "    print(a[i:i+10])"
      ]
    }
  ]
}