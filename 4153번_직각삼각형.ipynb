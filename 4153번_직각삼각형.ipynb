{
  "nbformat": 4,
  "nbformat_minor": 0,
  "metadata": {
    "colab": {
      "provenance": [],
      "authorship_tag": "ABX9TyPxjoLQFeLUatXhk8neAVO2",
      "include_colab_link": true
    },
    "kernelspec": {
      "name": "python3",
      "display_name": "Python 3"
    },
    "language_info": {
      "name": "python"
    }
  },
  "cells": [
    {
      "cell_type": "markdown",
      "metadata": {
        "id": "view-in-github",
        "colab_type": "text"
      },
      "source": [
        "<a href=\"https://colab.research.google.com/github/likevanilla/baekjoon_code/blob/main/4153%EB%B2%88_%EC%A7%81%EA%B0%81%EC%82%BC%EA%B0%81%ED%98%95.ipynb\" target=\"_parent\"><img src=\"https://colab.research.google.com/assets/colab-badge.svg\" alt=\"Open In Colab\"/></a>"
      ]
    },
    {
      "cell_type": "markdown",
      "source": [
        "# 직각삼각형\n",
        "\n",
        "과거 이집트인들은 각 변들의 길이가 3, 4, 5인 삼각형이 직각 삼각형인것을 알아냈다. 주어진 세변의 길이로 삼각형이 직각인지 아닌지 구분하시오."
      ],
      "metadata": {
        "id": "0zs-lUwx9nCR"
      }
    },
    {
      "cell_type": "code",
      "execution_count": 16,
      "metadata": {
        "colab": {
          "base_uri": "https://localhost:8080/"
        },
        "id": "zC3ujRtA9kxT",
        "outputId": "351f2182-3556-4456-da42-4db7d03f69fc"
      },
      "outputs": [
        {
          "name": "stdout",
          "output_type": "stream",
          "text": [
            "3 4 5\n",
            "right\n",
            "0 0 0\n"
          ]
        }
      ],
      "source": [
        "T = 0\n",
        "\n",
        "while T == 0:\n",
        "  lst = []\n",
        "  a, b,c = map(int, input().split())\n",
        "  lst.append(a)\n",
        "  lst.append(b)\n",
        "  lst.append(c)\n",
        "  lst.sort()\n",
        "\n",
        "  if lst[0] == 0 and lst[1] == 0 and lst[2] == 0:\n",
        "    T += 1\n",
        "    break\n",
        "  elif lst[0]**2 + lst[1]**2 == lst[2]**2 :\n",
        "    print(\"right\")\n",
        "  else:\n",
        "    print(\"wrong\")"
      ]
    }
  ]
}