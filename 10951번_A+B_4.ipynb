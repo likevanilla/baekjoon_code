{
  "nbformat": 4,
  "nbformat_minor": 0,
  "metadata": {
    "colab": {
      "provenance": [],
      "authorship_tag": "ABX9TyMXc5Li9kk3BA2gjmqkbi+w",
      "include_colab_link": true
    },
    "kernelspec": {
      "name": "python3",
      "display_name": "Python 3"
    },
    "language_info": {
      "name": "python"
    }
  },
  "cells": [
    {
      "cell_type": "markdown",
      "metadata": {
        "id": "view-in-github",
        "colab_type": "text"
      },
      "source": [
        "<a href=\"https://colab.research.google.com/github/likevanilla/baekjoon_code/blob/main/10951%EB%B2%88_A%2BB_4.ipynb\" target=\"_parent\"><img src=\"https://colab.research.google.com/assets/colab-badge.svg\" alt=\"Open In Colab\"/></a>"
      ]
    },
    {
      "cell_type": "markdown",
      "source": [
        "# A+B - 4\n",
        "\n",
        "두 정수 A와 B를 입력받은 다음, A+B를 출력하는 프로그램을 작성하시오."
      ],
      "metadata": {
        "id": "tIDg0VYm004n"
      }
    },
    {
      "cell_type": "code",
      "execution_count": 6,
      "metadata": {
        "colab": {
          "base_uri": "https://localhost:8080/"
        },
        "id": "G7dR86Vy0wF_",
        "outputId": "0e0f5ce7-3287-414d-edf3-6fbcf0788dc6"
      },
      "outputs": [
        {
          "output_type": "stream",
          "name": "stdout",
          "text": [
            "1 1\n",
            "2\n",
            "1 1\n",
            "2\n",
            "1 1\n",
            "2\n",
            "1 1\n",
            "2\n",
            "1 1\n",
            "2\n"
          ]
        }
      ],
      "source": [
        "while True:\n",
        "  try:\n",
        "    A, B = input().split()\n",
        "    print(int(A)+int(B))\n",
        "  except:\n",
        "    break"
      ]
    }
  ]
}