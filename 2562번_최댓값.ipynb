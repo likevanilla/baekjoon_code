{
  "nbformat": 4,
  "nbformat_minor": 0,
  "metadata": {
    "colab": {
      "provenance": [],
      "authorship_tag": "ABX9TyNR3F/JQx86ntSb7iBkucmD",
      "include_colab_link": true
    },
    "kernelspec": {
      "name": "python3",
      "display_name": "Python 3"
    },
    "language_info": {
      "name": "python"
    }
  },
  "cells": [
    {
      "cell_type": "markdown",
      "metadata": {
        "id": "view-in-github",
        "colab_type": "text"
      },
      "source": [
        "<a href=\"https://colab.research.google.com/github/likevanilla/baekjoon_code/blob/main/2562%EB%B2%88_%EC%B5%9C%EB%8C%93%EA%B0%92.ipynb\" target=\"_parent\"><img src=\"https://colab.research.google.com/assets/colab-badge.svg\" alt=\"Open In Colab\"/></a>"
      ]
    },
    {
      "cell_type": "markdown",
      "source": [
        "# 최댓값\n",
        "\n",
        "9개의 서로 다른 자연수가 주어질 때, 이들 중 최댓값을 찾고 그 최댓값이 몇 번째 수인지를 구하는 프로그램을 작성하시오.\n",
        "\n",
        "예를 들어, 서로 다른 9개의 자연수\n",
        "\n",
        "3, 29, 38, 12, 57, 74, 40, 85, 61\n",
        "\n",
        "이 주어지면, 이들 중 최댓값은 85이고, 이 값은 8번째 수이다."
      ],
      "metadata": {
        "id": "SmPKtwkIOS7x"
      }
    },
    {
      "cell_type": "code",
      "execution_count": 4,
      "metadata": {
        "colab": {
          "base_uri": "https://localhost:8080/"
        },
        "id": "42qelsItOJLz",
        "outputId": "46af5a8d-8474-4a24-9af2-f0054e1e26b3"
      },
      "outputs": [
        {
          "output_type": "stream",
          "name": "stdout",
          "text": [
            "3\n",
            "29\n",
            "38\n",
            "12\n",
            "57\n",
            "74\n",
            "40\n",
            "85\n",
            "61\n",
            "85\n",
            "8\n"
          ]
        }
      ],
      "source": [
        "lst = []\n",
        "\n",
        "for i in range(9):\n",
        "  lst.append(int(input()))\n",
        "\n",
        "print(max(lst))\n",
        "print(lst.index(max(lst))+1)"
      ]
    }
  ]
}