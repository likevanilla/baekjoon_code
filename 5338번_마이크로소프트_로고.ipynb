{
  "nbformat": 4,
  "nbformat_minor": 0,
  "metadata": {
    "colab": {
      "provenance": [],
      "authorship_tag": "ABX9TyM0/OUJaGxsu5R5JsqGXePv",
      "include_colab_link": true
    },
    "kernelspec": {
      "name": "python3",
      "display_name": "Python 3"
    },
    "language_info": {
      "name": "python"
    }
  },
  "cells": [
    {
      "cell_type": "markdown",
      "metadata": {
        "id": "view-in-github",
        "colab_type": "text"
      },
      "source": [
        "<a href=\"https://colab.research.google.com/github/likevanilla/baekjoon_code/blob/main/5338%EB%B2%88_%EB%A7%88%EC%9D%B4%ED%81%AC%EB%A1%9C%EC%86%8C%ED%94%84%ED%8A%B8_%EB%A1%9C%EA%B3%A0.ipynb\" target=\"_parent\"><img src=\"https://colab.research.google.com/assets/colab-badge.svg\" alt=\"Open In Colab\"/></a>"
      ]
    },
    {
      "cell_type": "markdown",
      "source": [
        "# 마이크로소프트 로고\n",
        "\n",
        "마이크로소프트 로고를 예제 출력처럼 출력하는 프로그램을 작성하시오."
      ],
      "metadata": {
        "id": "LM7DZJx-UE99"
      }
    },
    {
      "cell_type": "code",
      "execution_count": 1,
      "metadata": {
        "colab": {
          "base_uri": "https://localhost:8080/"
        },
        "id": "a5_wAaZUTyG8",
        "outputId": "2a35dcda-1c10-4406-a32f-ae42fb3e9162"
      },
      "outputs": [
        {
          "output_type": "stream",
          "name": "stdout",
          "text": [
            "       _.-;;-._\n",
            "'-..-'|   ||   |\n",
            "'-..-'|_.-;;-._|\n",
            "'-..-'|   ||   |\n",
            "'-..-'|_.-''-._|\n"
          ]
        }
      ],
      "source": [
        "print('       _.-;;-._')\n",
        "print('\\'-..-\\'|   ||   |')\n",
        "print('\\'-..-\\'|_.-;;-._|')\n",
        "print('\\'-..-\\'|   ||   |')\n",
        "print('\\'-..-\\'|_.-\\'\\'-._|')"
      ]
    }
  ]
}