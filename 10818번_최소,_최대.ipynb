{
  "nbformat": 4,
  "nbformat_minor": 0,
  "metadata": {
    "colab": {
      "provenance": [],
      "authorship_tag": "ABX9TyOzBxlAajtFtRjSP1o4d87f",
      "include_colab_link": true
    },
    "kernelspec": {
      "name": "python3",
      "display_name": "Python 3"
    },
    "language_info": {
      "name": "python"
    }
  },
  "cells": [
    {
      "cell_type": "markdown",
      "metadata": {
        "id": "view-in-github",
        "colab_type": "text"
      },
      "source": [
        "<a href=\"https://colab.research.google.com/github/likevanilla/baekjoon_code/blob/main/10818%EB%B2%88_%EC%B5%9C%EC%86%8C%2C_%EC%B5%9C%EB%8C%80.ipynb\" target=\"_parent\"><img src=\"https://colab.research.google.com/assets/colab-badge.svg\" alt=\"Open In Colab\"/></a>"
      ]
    },
    {
      "cell_type": "markdown",
      "source": [
        "# 최소, 최대\n",
        "\n",
        "N개의 정수가 주어진다. 이때, 최솟값과 최댓값을 구하는 프로그램을 작성하시오."
      ],
      "metadata": {
        "id": "bVqDFMLYFPMD"
      }
    },
    {
      "cell_type": "code",
      "execution_count": 24,
      "metadata": {
        "colab": {
          "base_uri": "https://localhost:8080/"
        },
        "id": "L8FYZV9iEtO4",
        "outputId": "c8411052-825b-48de-d69d-6104a0d6473e"
      },
      "outputs": [
        {
          "output_type": "stream",
          "name": "stdout",
          "text": [
            "5\n",
            "20 10 35 30 7\n",
            "[20, 10, 35, 30, 7]\n",
            "7 35\n"
          ]
        }
      ],
      "source": [
        "N = int(input())\n",
        "\n",
        "lst = input().split()\n",
        "\n",
        "for i in range(N):\n",
        "  lst.append(int(lst[i]))\n",
        "\n",
        "del lst[:N]\n",
        "\n",
        "print(min(lst), max(lst))"
      ]
    }
  ]
}