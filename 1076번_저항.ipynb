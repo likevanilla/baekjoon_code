{
  "nbformat": 4,
  "nbformat_minor": 0,
  "metadata": {
    "colab": {
      "provenance": [],
      "authorship_tag": "ABX9TyMF2llw5wmO4EXcFCYWVtgg",
      "include_colab_link": true
    },
    "kernelspec": {
      "name": "python3",
      "display_name": "Python 3"
    },
    "language_info": {
      "name": "python"
    }
  },
  "cells": [
    {
      "cell_type": "markdown",
      "metadata": {
        "id": "view-in-github",
        "colab_type": "text"
      },
      "source": [
        "<a href=\"https://colab.research.google.com/github/likevanilla/baekjoon_code/blob/main/1076%EB%B2%88_%EC%A0%80%ED%95%AD.ipynb\" target=\"_parent\"><img src=\"https://colab.research.google.com/assets/colab-badge.svg\" alt=\"Open In Colab\"/></a>"
      ]
    },
    {
      "cell_type": "markdown",
      "source": [
        "# 저항\n",
        "\n",
        "전자 제품에는 저항이 들어간다. 저항은 색 3개를 이용해서 그 저항이 몇 옴인지 나타낸다. 처음 색 2개는 저항의 값이고, 마지막 색은 곱해야 하는 값이다. 저항의 값은 다음 표를 이용해서 구한다.\n",
        "\n",
        "예를 들어, 저항의 색이 yellow, violet, red였다면 저항의 값은 4,700이 된다."
      ],
      "metadata": {
        "id": "FOqW353YaeOF"
      }
    },
    {
      "cell_type": "code",
      "execution_count": null,
      "metadata": {
        "id": "PdC5l-hoZ_Hd"
      },
      "outputs": [],
      "source": [
        "color = {'black':[0, 1], 'brown':[1, 10], 'red':[2, 100], 'orange':[3, 1000],\n",
        "         'yellow':[4,10000], 'green':[5,100000], 'blue':[6,1000000],\n",
        "         'violet':[7,10000000], 'grey':[8,100000000], 'white':[9,1000000000]}\n",
        "\n",
        "first_color = input()\n",
        "second_color = input()\n",
        "third_color = input()\n",
        "\n",
        "f_c_l = color[first_color]\n",
        "s_c_l = color[second_color]\n",
        "t_c_l = color[third_color]\n",
        "\n",
        "f_c_r = f_c_l[0]\n",
        "s_c_r = s_c_l[0]\n",
        "t_c_r = t_c_l[1]\n",
        "\n",
        "print(((t_c_r*10)*f_c_r)+(t_c_r*s_c_r))"
      ]
    }
  ]
}