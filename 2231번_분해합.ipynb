{
  "nbformat": 4,
  "nbformat_minor": 0,
  "metadata": {
    "colab": {
      "provenance": [],
      "authorship_tag": "ABX9TyONHe/IBrDqI/4IpmZJ32ZD",
      "include_colab_link": true
    },
    "kernelspec": {
      "name": "python3",
      "display_name": "Python 3"
    },
    "language_info": {
      "name": "python"
    }
  },
  "cells": [
    {
      "cell_type": "markdown",
      "metadata": {
        "id": "view-in-github",
        "colab_type": "text"
      },
      "source": [
        "<a href=\"https://colab.research.google.com/github/likevanilla/baekjoon_code/blob/main/2231%EB%B2%88_%EB%B6%84%ED%95%B4%ED%95%A9.ipynb\" target=\"_parent\"><img src=\"https://colab.research.google.com/assets/colab-badge.svg\" alt=\"Open In Colab\"/></a>"
      ]
    },
    {
      "cell_type": "markdown",
      "source": [
        "# 분해합\n",
        "\n",
        "어떤 자연수 N이 있을 때, 그 자연수 N의 분해합은 N과 N을 이루는 각 자리수의 합을 의미한다. 어떤 자연수 M의 분해합이 N인 경우, M을 N의 생성자라 한다. 예를 들어, 245의 분해합은 256(=245+2+4+5)이 된다. 따라서 245는 256의 생성자가 된다. 물론, 어떤 자연수의 경우에는 생성자가 없을 수도 있다. 반대로, 생성자가 여러 개인 자연수도 있을 수 있다.\n",
        "\n",
        "자연수 N이 주어졌을 때, N의 가장 작은 생성자를 구해내는 프로그램을 작성하시오.\n"
      ],
      "metadata": {
        "id": "sxdlzw8i4Zo0"
      }
    },
    {
      "cell_type": "code",
      "execution_count": null,
      "metadata": {
        "id": "xr_wlPEx4XgW"
      },
      "outputs": [],
      "source": [
        "N = int(input())\n",
        "\n",
        "num_list = list(range(1,N+1))\n",
        "sum_list = []\n",
        "\n",
        "for i in num_list:\n",
        "    sum1 = 0\n",
        "\n",
        "    for j in str(i):\n",
        "        sum1 += int(j)\n",
        "\n",
        "    sum2 = i + sum1\n",
        "    if sum2 == N:\n",
        "        sum_list.append(i)\n",
        "if len(sum_list) == 0:\n",
        "    print(0)\n",
        "else:\n",
        "    print(min(sum_list))\n"
      ]
    }
  ]
}