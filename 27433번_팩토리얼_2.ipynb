{
  "nbformat": 4,
  "nbformat_minor": 0,
  "metadata": {
    "colab": {
      "provenance": [],
      "authorship_tag": "ABX9TyONLFDA+3MywiGoFxaz1tFx",
      "include_colab_link": true
    },
    "kernelspec": {
      "name": "python3",
      "display_name": "Python 3"
    },
    "language_info": {
      "name": "python"
    }
  },
  "cells": [
    {
      "cell_type": "markdown",
      "metadata": {
        "id": "view-in-github",
        "colab_type": "text"
      },
      "source": [
        "<a href=\"https://colab.research.google.com/github/likevanilla/baekjoon_code/blob/main/27433%EB%B2%88_%ED%8C%A9%ED%86%A0%EB%A6%AC%EC%96%BC_2.ipynb\" target=\"_parent\"><img src=\"https://colab.research.google.com/assets/colab-badge.svg\" alt=\"Open In Colab\"/></a>"
      ]
    },
    {
      "cell_type": "markdown",
      "source": [
        "# 팩토리얼 2\n",
        "\n",
        "0보다 크거나 같은 정수 N이 주어진다. 이때, N!을 출력하는 프로그램을 작성하시오."
      ],
      "metadata": {
        "id": "wNgu5nsQoRFO"
      }
    },
    {
      "cell_type": "code",
      "execution_count": 14,
      "metadata": {
        "colab": {
          "base_uri": "https://localhost:8080/"
        },
        "id": "PkV2pcXpoOVs",
        "outputId": "c93a975d-356f-4d0e-fb44-d8c939a56e5c"
      },
      "outputs": [
        {
          "output_type": "stream",
          "name": "stdout",
          "text": [
            "3\n",
            "6\n"
          ]
        }
      ],
      "source": [
        "N = int(input())\n",
        "rst = 1\n",
        "\n",
        "if N == 0:\n",
        "  print(rst)\n",
        "else:\n",
        "  for i in range(1,N+1):\n",
        "    rst = rst * i\n",
        "  print(rst)"
      ]
    }
  ]
}